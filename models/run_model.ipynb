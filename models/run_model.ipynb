{
 "cells": [
  {
   "cell_type": "code",
   "execution_count": null,
   "metadata": {},
   "outputs": [],
   "source": [
    "using Pkg\n",
    "Pkg.activate(\"$(@__DIR__)/../\")\n",
    "\n",
    "using CSV\n",
    "using Glob\n",
    "using DataFrames\n",
    "using JuMP\n",
    "using Gurobi"
   ]
  },
  {
   "cell_type": "code",
   "execution_count": null,
   "metadata": {},
   "outputs": [],
   "source": [
    "\n",
    "include(\"$(@__DIR__)/build_datacenter.jl\")\n",
    "include(\"$(@__DIR__)/simulate_batch.jl\")\n",
    "include(\"$(@__DIR__)/model.jl\")"
   ]
  },
  {
   "cell_type": "code",
   "execution_count": null,
   "metadata": {},
   "outputs": [],
   "source": [
    "DC = build_datacenter(\"$(@__DIR__)/../data/contiguousDataCenterNew\")"
   ]
  },
  {
   "cell_type": "code",
   "execution_count": null,
   "metadata": {},
   "outputs": [],
   "source": [
    "Sim = HistoricalDemandSimulator(\"$(@__DIR__)/../data/syntheticDemandSimulation\")\n",
    "\n",
    "demand_dir = \"$(@__DIR__)/../data/demandTrajectories\"\n",
    "demand_data = CSV.read(joinpath(demand_dir, \"150res_1.csv\"), DataFrame)\n",
    "sort!(demand_data, :resID)\n",
    "\n",
    "\n",
    "CONST_BATCH_SIZE = 10\n",
    "T = Int(ceil(nrow(demand_data) / CONST_BATCH_SIZE))\n",
    "batches = Dict(\n",
    "    t => Dict(\n",
    "        \"seed\" => 0,\n",
    "        \"size\" => demand_data[inds, :size],\n",
    "        \"cooling\" => demand_data[inds, :coolingEach],\n",
    "        \"power\" => demand_data[inds, :powerEach],\n",
    "        \"reward\" => ones(length(demand_data[inds, :resID])),\n",
    "    )\n",
    "    for (t, inds) in enumerate(Iterators.partition(1:nrow(demand_data), CONST_BATCH_SIZE))\n",
    ")\n",
    "batch_sizes = Dict(\n",
    "    t => CONST_BATCH_SIZE\n",
    "    for t in 1:T\n",
    ")"
   ]
  },
  {
   "cell_type": "code",
   "execution_count": null,
   "metadata": {},
   "outputs": [],
   "source": [
    "oracle_result = build_solve_oracle_model(batches, batch_sizes, DC)\n",
    "println(oracle_result[\"x\"])\n",
    "println(oracle_result[\"y\"])\n",
    "println(oracle_result[\"objective\"])\n",
    "println(oracle_result[\"time_taken\"])\n"
   ]
  },
  {
   "cell_type": "code",
   "execution_count": null,
   "metadata": {},
   "outputs": [],
   "source": [
    "SSOA_result = rack_placement(DC, Sim, T, batches, batch_sizes, strategy = \"SSOA\", S = 1, seed = 0)\n",
    "SAA_result = rack_placement(DC, Sim, T, batches, batch_sizes, strategy = \"SAA\", S = 5, seed = 0)\n",
    "MPC_result = rack_placement(DC, Sim, T, batches, batch_sizes, strategy = \"MPC\")"
   ]
  },
  {
   "cell_type": "code",
   "execution_count": null,
   "metadata": {},
   "outputs": [],
   "source": [
    "SSOA_result[\"objective\"]\n",
    "SAA_result[\"objective\"]\n",
    "MPC_result[\"objective\"]"
   ]
  },
  {
   "cell_type": "code",
   "execution_count": null,
   "metadata": {},
   "outputs": [],
   "source": [
    "\n",
    "\n",
    "SSOA_result[\"time_taken\"][end]\n",
    "SAA_result[\"time_taken\"][end]\n",
    "MPC_result[\"time_taken\"][end]"
   ]
  }
 ],
 "metadata": {
  "kernelspec": {
   "display_name": "Julia 1.10.1",
   "language": "julia",
   "name": "julia-1.10"
  },
  "language_info": {
   "file_extension": ".jl",
   "mimetype": "application/julia",
   "name": "julia",
   "version": "1.10.1"
  }
 },
 "nbformat": 4,
 "nbformat_minor": 2
}
